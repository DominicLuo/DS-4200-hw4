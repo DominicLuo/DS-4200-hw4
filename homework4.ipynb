{
 "cells": [
  {
   "cell_type": "markdown",
   "id": "a395f023-c515-4947-a786-b9140b7ce250",
   "metadata": {
    "id": "a395f023-c515-4947-a786-b9140b7ce250"
   },
   "source": [
    "# DS4200 Homework 4\n",
    "\n",
    "Due: Friday Nov 15th @ 11:59 PM EST\n",
    "\n",
    "### Submission Instructions\n",
    "Submit this `ipynb` file included with the coding results to Gradescope (this can also be done via the assignment on Canvas).  To ensure that your submitted files represent your latest code, make sure to give a fresh `Kernel > Restart & Run All` just before uploading the files to gradescope.\n",
    "\n",
    "### Tips for success\n",
    "- Start early\n",
    "- Make use of Piazza\n",
    "- Make use of Office hour\n",
    "- Remember to use cells and headings to make the notebook easy to read (if a grader cannot find the answer to a problem, you will receive no points for it)\n",
    "- Under no circumstances may one student view or share their ungraded homework or quiz with another student [(see also)](http://www.northeastern.edu/osccr/academic-integrity), though you are welcome to **talk about** (not show each other) the problems."
   ]
  },
  {
   "cell_type": "code",
   "source": [
    "from google.colab import drive\n",
    "drive.mount('/content/drive')"
   ],
   "metadata": {
    "colab": {
     "base_uri": "https://localhost:8080/"
    },
    "id": "NLSQx_k4jJja",
    "outputId": "1b55da9f-bd89-4029-c208-a7e7de09d0b2",
    "ExecuteTime": {
     "end_time": "2024-11-16T03:33:22.868423Z",
     "start_time": "2024-11-16T03:33:22.833418Z"
    }
   },
   "id": "NLSQx_k4jJja",
   "outputs": [
    {
     "ename": "ModuleNotFoundError",
     "evalue": "No module named 'google'",
     "output_type": "error",
     "traceback": [
      "\u001B[1;31m---------------------------------------------------------------------------\u001B[0m",
      "\u001B[1;31mModuleNotFoundError\u001B[0m                       Traceback (most recent call last)",
      "Cell \u001B[1;32mIn[3], line 1\u001B[0m\n\u001B[1;32m----> 1\u001B[0m \u001B[38;5;28;01mfrom\u001B[39;00m \u001B[38;5;21;01mgoogle\u001B[39;00m\u001B[38;5;21;01m.\u001B[39;00m\u001B[38;5;21;01mcolab\u001B[39;00m \u001B[38;5;28;01mimport\u001B[39;00m drive\n\u001B[0;32m      2\u001B[0m drive\u001B[38;5;241m.\u001B[39mmount(\u001B[38;5;124m'\u001B[39m\u001B[38;5;124m/content/drive\u001B[39m\u001B[38;5;124m'\u001B[39m)\n",
      "\u001B[1;31mModuleNotFoundError\u001B[0m: No module named 'google'"
     ]
    }
   ],
   "execution_count": 3
  },
  {
   "cell_type": "code",
   "source": [
    "from google.colab import drive\n",
    "drive.mount('/content/drive')\n",
    "\n",
    "import pandas as pd\n",
    "file_path = '/content/drive/My Drive/ds 4200/hw4/gapminder-health-income.csv'\n",
    "df = pd.read_csv(file_path)\n",
    "df.head()\n"
   ],
   "metadata": {
    "id": "ByGunvc2jQQF",
    "colab": {
     "base_uri": "https://localhost:8080/",
     "height": 223
    },
    "outputId": "0cc85809-9d87-464f-9c97-772f00dc642d",
    "ExecuteTime": {
     "end_time": "2024-11-16T03:33:14.023157Z",
     "start_time": "2024-11-16T03:33:14.023157Z"
    }
   },
   "id": "ByGunvc2jQQF",
   "outputs": [],
   "execution_count": null
  },
  {
   "cell_type": "markdown",
   "id": "b4847fe4-e2d8-465c-a50f-cfc606db2561",
   "metadata": {
    "id": "b4847fe4-e2d8-465c-a50f-cfc606db2561"
   },
   "source": [
    "## Part 1: Altair interactive plots\n",
    "\n",
    "Gapminder is a non-profit organization that promotes global sustainable development and seeks to bridge the gap between misconceptions and data-driven understanding. We are going to explore the a small subset of its data with the information of average income, health score and population for each country in the world. The region information is also provided."
   ]
  },
  {
   "cell_type": "code",
   "id": "e4a851f1-8fed-44af-a17c-7be1e289f13b",
   "metadata": {
    "colab": {
     "base_uri": "https://localhost:8080/",
     "height": 206
    },
    "id": "e4a851f1-8fed-44af-a17c-7be1e289f13b",
    "outputId": "fb84a73e-5ea2-43d2-f6a2-2128abccdb32",
    "ExecuteTime": {
     "end_time": "2024-11-16T03:33:14.026158Z",
     "start_time": "2024-11-16T03:33:14.025158Z"
    }
   },
   "source": [
    "import altair as alt\n",
    "import pandas as pd\n",
    "\n",
    "gapminder = df\n",
    "gapminder.head()"
   ],
   "outputs": [],
   "execution_count": null
  },
  {
   "cell_type": "markdown",
   "id": "a865360c-ee71-4ef8-aa34-831046159233",
   "metadata": {
    "id": "a865360c-ee71-4ef8-aa34-831046159233"
   },
   "source": [
    "### Part 1.1 Add selection (5 points)\n",
    "\n",
    "Make a scatter plot to show the relationship between average personal income and average health score. Use the Region as the original color. Please add tooltip to it to show the information about the country name and population. Also, allow the user to select a single country to highlight while all the other become light grey."
   ]
  },
  {
   "cell_type": "code",
   "id": "9f87686b-6788-414b-91c8-ecba778e4a03",
   "metadata": {
    "id": "9f87686b-6788-414b-91c8-ecba778e4a03",
    "colab": {
     "base_uri": "https://localhost:8080/",
     "height": 654
    },
    "outputId": "0744660a-1760-40be-e5b1-d948b41ed8b3",
    "ExecuteTime": {
     "start_time": "2024-11-16T03:33:14.027164Z"
    }
   },
   "source": [
    "base = alt.Chart(gapminder).mark_circle(size=60).encode(\n",
    "    x=alt.X('income:Q', title='Average Income'),\n",
    "    y=alt.Y('health:Q', title='Average Health Score'),\n",
    "    color=alt.Color('region:N', title='Region'),\n",
    "    tooltip=[alt.Tooltip('country:N', title='Country'),\n",
    "             alt.Tooltip('population:Q', title='Population')]\n",
    ").properties(\n",
    "    width=700,\n",
    "    height=500,\n",
    "    title=\"Income vs Health with Region Color\"\n",
    ")\n",
    "\n",
    "# add selection for single country highlight\n",
    "highlight = alt.selection_single(on='mouseover', fields=['country'], empty='none')\n",
    "\n",
    "# modify chart to include selection behavior\n",
    "interactive_chart = base.add_selection(\n",
    "    highlight\n",
    ").encode(\n",
    "    opacity=alt.condition(highlight, alt.value(1), alt.value(0.3))\n",
    ")\n",
    "\n",
    "interactive_chart\n"
   ],
   "outputs": [],
   "execution_count": null
  },
  {
   "cell_type": "markdown",
   "id": "17986ad2-b4b6-4c56-94ce-0c3c2441595c",
   "metadata": {
    "id": "17986ad2-b4b6-4c56-94ce-0c3c2441595c"
   },
   "source": [
    "### Part 1.2 Customize the color (10 points)\n",
    "\n",
    "Now choose a customized color map for the previous question. Explain how you choose the color map and apply it to the plot."
   ]
  },
  {
   "cell_type": "code",
   "id": "5e894942-2641-44f8-b87d-be40be4d5c92",
   "metadata": {
    "id": "5e894942-2641-44f8-b87d-be40be4d5c92",
    "outputId": "ad4849d4-0de6-4d80-d79c-72538bb35dd1",
    "colab": {
     "base_uri": "https://localhost:8080/",
     "height": 654
    },
    "ExecuteTime": {
     "end_time": "2024-11-16T03:33:14.029159Z",
     "start_time": "2024-11-16T03:33:14.029159Z"
    }
   },
   "source": [
    "color_scale = alt.Scale(\n",
    "    domain=[\n",
    "        \"south_asia\",\n",
    "        \"europe_central_asia\",\n",
    "        \"middle_east_north_africa\",\n",
    "        \"sub_saharan_africa\",\n",
    "        \"east_asia_pacific\",\n",
    "        \"north_america\",\n",
    "        \"latin_america_caribbean\"\n",
    "    ],\n",
    "    range=[\"#ff7f0e\", \"#1f77b4\", \"#2ca02c\", \"#d62728\", \"#9467bd\", \"#8c564b\", \"#e377c2\"]\n",
    ")\n",
    "\n",
    "# modify the chart to use the custom color scale\n",
    "custom_color_chart = base.encode(\n",
    "    color=alt.Color('region:N', scale=color_scale, title='Region')\n",
    ").add_selection(\n",
    "    highlight\n",
    ").encode(\n",
    "    opacity=alt.condition(highlight, alt.value(1), alt.value(0.3))\n",
    ")\n",
    "\n",
    "custom_color_chart\n"
   ],
   "outputs": [],
   "execution_count": null
  },
  {
   "cell_type": "markdown",
   "id": "0fe94f45-3a2b-4da4-9a03-6b7d5b6ca1f3",
   "metadata": {
    "id": "0fe94f45-3a2b-4da4-9a03-6b7d5b6ca1f3"
   },
   "source": [
    "### Part 1.3 Select across multiple panels (5 points)\n",
    "\n",
    "Now add an interval selection such that the user can select over any income range, such that we can generate a second plot to show the relationship between income and population for the given range."
   ]
  },
  {
   "cell_type": "code",
   "id": "bd744eba-8f2c-4abd-b124-ea6f664f3f8e",
   "metadata": {
    "id": "bd744eba-8f2c-4abd-b124-ea6f664f3f8e",
    "colab": {
     "base_uri": "https://localhost:8080/",
     "height": 832
    },
    "outputId": "3c858388-ea47-45c2-b011-5eb6ec358df4",
    "ExecuteTime": {
     "end_time": "2024-11-16T03:33:14.031157Z",
     "start_time": "2024-11-16T03:33:14.030158Z"
    }
   },
   "source": [
    "income_selection = alt.selection_interval(encodings=['x'])\n",
    "\n",
    "# income vs Health with interval selection\n",
    "income_health_plot = alt.Chart(gapminder).mark_circle(size=60).encode(\n",
    "    x=alt.X('income:Q', title='Average Income'),\n",
    "    y=alt.Y('health:Q', title='Average Health Score'),\n",
    "    color=alt.Color('region:N', title='Region'),\n",
    "    tooltip=[alt.Tooltip('country:N', title='Country'), alt.Tooltip('population:Q', title='Population')]\n",
    ").add_selection(\n",
    "    income_selection\n",
    ").properties(\n",
    "    width=700,\n",
    "    height=300,\n",
    "    title='Income vs Health with Selection'\n",
    ")\n",
    "\n",
    "# income vs Population reflecting the selected range\n",
    "income_population_plot = alt.Chart(gapminder).mark_circle(size=60).encode(\n",
    "    x=alt.X('income:Q', title='Average Income'),\n",
    "    y=alt.Y('population:Q', title='Population'),\n",
    "    color=alt.Color('region:N', title='Region'),\n",
    "    tooltip=[alt.Tooltip('country:N', title='Country'), alt.Tooltip('population:Q', title='Population')]\n",
    ").transform_filter(\n",
    "    income_selection\n",
    ").properties(\n",
    "    width=700,\n",
    "    height=300,\n",
    "    title='Income vs Population (Filtered by Selection)'\n",
    ")\n",
    "\n",
    "# combine the plots\n",
    "final_chart = alt.vconcat(\n",
    "    income_health_plot,\n",
    "    income_population_plot\n",
    ")\n",
    "\n",
    "final_chart"
   ],
   "outputs": [],
   "execution_count": null
  },
  {
   "cell_type": "markdown",
   "id": "ca463b50-e234-4895-b0f0-536114af6c55",
   "metadata": {
    "id": "ca463b50-e234-4895-b0f0-536114af6c55"
   },
   "source": [
    "### Part 1.4 Data binding (10 points)\n",
    "\n",
    "Instead of the using the legend, now include a radio button or the region such that each selection only highlights one region and make the other points to be grey."
   ]
  },
  {
   "cell_type": "code",
   "id": "460f3805-4f18-4b67-af82-6a342a4186ed",
   "metadata": {
    "id": "460f3805-4f18-4b67-af82-6a342a4186ed",
    "colab": {
     "base_uri": "https://localhost:8080/",
     "height": 674
    },
    "outputId": "0a7ae5be-628d-4897-8b93-1f3cb834b436",
    "ExecuteTime": {
     "end_time": "2024-11-16T03:33:14.032157Z",
     "start_time": "2024-11-16T03:33:14.032157Z"
    }
   },
   "source": [
    "region_selection = alt.selection_single(\n",
    "    fields=['region'],\n",
    "    bind=alt.binding_radio(options=gapminder['region'].unique().tolist()),\n",
    "    name='Select Region'\n",
    ")\n",
    "\n",
    "# define the base chart\n",
    "base = alt.Chart(gapminder).mark_circle(size=60).encode(\n",
    "    x=alt.X('income:Q', title='Average Income'),\n",
    "    y=alt.Y('health:Q', title='Average Health Score'),\n",
    "    color=alt.condition(\n",
    "        region_selection,\n",
    "        alt.Color('region:N', legend=None),\n",
    "        alt.value('lightgrey')\n",
    "    ),\n",
    "    tooltip=['country:N', 'income:Q', 'health:Q', 'region:N']\n",
    ").add_selection(\n",
    "    region_selection  # Add the selection to the chart\n",
    ").properties(\n",
    "    width=700,\n",
    "    height=500,\n",
    "    title='Highlight Region with Radio Button'\n",
    ")\n",
    "\n",
    "base\n"
   ],
   "outputs": [],
   "execution_count": null
  },
  {
   "cell_type": "markdown",
   "id": "b8af68c5-df5a-4eb4-b257-dab3a76d0d6a",
   "metadata": {
    "id": "b8af68c5-df5a-4eb4-b257-dab3a76d0d6a"
   },
   "source": [
    "### Part 1.5 Add filter with bars (10 points)\n",
    "\n",
    "Add a slider bar such that for a given value on the bar, we only show the data such that the population of the country is less than the value."
   ]
  },
  {
   "cell_type": "code",
   "id": "c750053e-ac1b-4138-9029-d1885f99c67a",
   "metadata": {
    "id": "c750053e-ac1b-4138-9029-d1885f99c67a",
    "colab": {
     "base_uri": "https://localhost:8080/",
     "height": 461
    },
    "outputId": "6008309f-4428-4b56-eca4-404271ef3f80"
   },
   "source": [
    "# Create slider\n",
    "population_slider = alt.binding_range(\n",
    "    name=\"Population Threshold\",\n",
    "    min=0,\n",
    "    max=gapminder['population'].max(),\n",
    "    step=1000000\n",
    ")\n",
    "\n",
    "# Create slider choices\n",
    "slider_selection = alt.selection_single(\n",
    "    fields=['population'],\n",
    "    bind=population_slider,\n",
    "    init={'population': gapminder['population'].max()}\n",
    ")\n",
    "\n",
    "# plot\n",
    "test_chart = alt.Chart(gapminder).mark_circle(size=60).encode(\n",
    "    x=alt.X('income:Q', title='Average Income'),\n",
    "    y=alt.Y('health:Q', title='Average Health Score'),\n",
    "    tooltip=['country:N', 'population:Q'],\n",
    "    color='region:N'\n",
    ").transform_filter(\n",
    "    alt.datum.population < slider_selection.population\n",
    ").add_selection(\n",
    "    slider_selection\n",
    ")\n",
    "\n",
    "test_chart\n"
   ],
   "outputs": [],
   "execution_count": null
  },
  {
   "cell_type": "markdown",
   "id": "e8d5c88c",
   "metadata": {
    "id": "e8d5c88c"
   },
   "source": [
    "### Part 2 Explore the TX population and unemployment rate\n",
    "#### Part 2.1 Prepare the geospatial data (10 points)\n",
    "\n",
    "On Canvas, there is a csv file called \"unemp.csv\", which contains county-level information about unemployment rate and population. Use county level geo-spatial data provided in the lecture to merge two datasets. Then extract the part of data for Texas and make a map for Texas county. Only show the boundary for the counties.\n",
    "\n",
    "Note: Texas has 254 counties, more than any other U.S. state."
   ]
  },
  {
   "cell_type": "code",
   "id": "93bdd2b0-ba13-4e61-b027-b7e9ec5ef03d",
   "metadata": {
    "id": "93bdd2b0-ba13-4e61-b027-b7e9ec5ef03d",
    "colab": {
     "base_uri": "https://localhost:8080/",
     "height": 206
    },
    "outputId": "b0ea4a58-16b8-4c75-b4a8-bfb430260749"
   },
   "source": [
    "file_path2 = '/content/drive/My Drive/ds 4200/hw4/unemp.csv'\n",
    "df2 = pd.read_csv(file_path2)\n",
    "df2.head()"
   ],
   "outputs": [],
   "execution_count": null
  },
  {
   "cell_type": "code",
   "source": [
    "import geopandas as gpd\n",
    "import matplotlib.pyplot as plt\n",
    "\n",
    "\n",
    "geo_url = \"https://raw.githubusercontent.com/plotly/datasets/master/geojson-counties-fips.json\"\n",
    "geo_data = gpd.read_file(geo_url)\n",
    "\n",
    "df2['fips'] = df2['fips'].astype(str).str.zfill(5)\n",
    "geo_data = geo_data.set_index('id')\n",
    "merged_data = geo_data.merge(df2, left_index=True, right_on='fips')\n",
    "texas_data = merged_data[merged_data['fips'].str.startswith('48')]\n",
    "\n",
    "fig, ax = plt.subplots(figsize=(10, 10))\n",
    "texas_data.boundary.plot(ax=ax, linewidth=1, edgecolor='black')\n",
    "ax.set_title('Texas County Boundaries', fontsize=16)\n",
    "plt.show()\n"
   ],
   "metadata": {
    "colab": {
     "base_uri": "https://localhost:8080/",
     "height": 821
    },
    "id": "iVQJ1M5PDZHK",
    "outputId": "316954ac-21be-4019-eb01-9cb3dd7700e8"
   },
   "id": "iVQJ1M5PDZHK",
   "outputs": [],
   "execution_count": null
  },
  {
   "cell_type": "markdown",
   "id": "310c6fe2",
   "metadata": {
    "id": "310c6fe2"
   },
   "source": [
    "#### Part 2.2 creating choropleth maps and customization (10 points)\n",
    "\n",
    "Make a choropleth maps with unemployment rate. Choose another color map from\n",
    "https://matplotlib.org/stable/users/explain/colors/colormaps.html. Give a title to the figure (use `plt.title`) as well as a title to the legend.\n"
   ]
  },
  {
   "cell_type": "code",
   "id": "a3bfd3cf-803e-4aa7-93aa-27915e2782e3",
   "metadata": {
    "id": "a3bfd3cf-803e-4aa7-93aa-27915e2782e3",
    "colab": {
     "base_uri": "https://localhost:8080/",
     "height": 961
    },
    "outputId": "9f70171d-2cda-4b43-d3e9-75b601dcadfc"
   },
   "source": [
    "import matplotlib.pyplot as plt\n",
    "fig, ax = plt.subplots(1, 1, figsize=(12, 12))\n",
    "texas_data.plot(\n",
    "    column='unemp',\n",
    "    cmap='plasma',\n",
    "    linewidth=0.8,\n",
    "    ax=ax,\n",
    "    edgecolor='0.8',\n",
    "    legend=True\n",
    ")\n",
    "\n",
    "# add label\n",
    "plt.title('Unemployment Rate Distribution in Texas', fontsize=16)\n",
    "plt.show()\n"
   ],
   "outputs": [],
   "execution_count": null
  },
  {
   "cell_type": "markdown",
   "id": "f3a06ac5-7a90-43b4-8a6d-5fe71a12cb06",
   "metadata": {
    "id": "f3a06ac5-7a90-43b4-8a6d-5fe71a12cb06"
   },
   "source": [
    "#### Part 2.3 Handle the missing values (15 points)\n",
    "\n",
    "Make a copy of your Texas data. Like what we have done in the lecture, randomly select 30 counties and set the unemployment rate as NaN. Plot the choropleth maps for the unemployment rate again. Define the color, boundary, and hatch pattern for the missing value areas. Also include a legend for the missing areas. Chooes a hatch pattern that is different from the lecture note from here: https://matplotlib.org/devdocs/gallery/shapes_and_collections/hatch_style_reference.html"
   ]
  },
  {
   "cell_type": "code",
   "id": "b71ee596-0dc2-444a-bef4-33e97ed8f2c9",
   "metadata": {
    "id": "b71ee596-0dc2-444a-bef4-33e97ed8f2c9",
    "colab": {
     "base_uri": "https://localhost:8080/",
     "height": 1000
    },
    "outputId": "c7b6f041-8df2-446c-8eaf-924919a8fe72"
   },
   "source": [
    "import numpy as np\n",
    "import matplotlib.pyplot as plt\n",
    "\n",
    "texas_data_copy = texas_data.copy()\n",
    "\n",
    "np.random.seed(42)\n",
    "missing_indices = np.random.choice(texas_data_copy.index, size=30, replace=False)\n",
    "texas_data_copy.loc[missing_indices, 'unemployment_rate'] = np.nan\n",
    "\n",
    "# Choropleth map\n",
    "fig, ax = plt.subplots(1, 1, figsize=(12, 12))\n",
    "\n",
    "# unemp map\n",
    "texas_data_copy.plot(\n",
    "    column='unemployment_rate',\n",
    "    cmap='plasma',\n",
    "    linewidth=0.8,\n",
    "    ax=ax,\n",
    "    edgecolor='0.8',\n",
    "    legend=True,\n",
    "    missing_kwds={\n",
    "        \"color\": \"none\",\n",
    "        \"edgecolor\": \"red\",\n",
    "        \"hatch\": \"///\",\n",
    "        \"label\": \"Missing Data\"\n",
    "    }\n",
    ")\n",
    "\n",
    "plt.legend(loc=\"upper left\", fontsize=10)\n",
    "plt.title('Unemployment Rate with Missing Data in Texas', fontsize=16)\n",
    "\n",
    "plt.show()\n"
   ],
   "outputs": [],
   "execution_count": null
  },
  {
   "cell_type": "markdown",
   "id": "635b623b",
   "metadata": {
    "id": "635b623b"
   },
   "source": [
    "#### Part 2.4 Multiple-layer plots (25 points)\n",
    "\n",
    "There is another attribute in the data which is called `pop`. This attributes represent the population in each county. This is a highly skewed attributed thus we first create a new attribute called `logpop`, which is the log of the population. Then make a map with two layers, one layer is the `logpop` and the second layer is `unemp`. Overlap both layers on the same map. Create one static figure and one interactive figure. In the interactive figure, the user should be able to select one or both layer to show and when they click the county, the information of population and unemployment rate are displayed.\n",
    "\n",
    "Note: You may need to create another copy of the data to show both layers. Also, you may need to add some transparency to the top layer so that the bottom layer can be seen.\n",
    "\n",
    "In the end, discuss how the overlapping colors and transparency factor affect people's understanding."
   ]
  },
  {
   "cell_type": "code",
   "source": [
    "import numpy as np\n",
    "\n",
    "# assume texas_data is a geodataframe which include poplog and unemp data field\n",
    "texas_data_copy = texas_data.copy()\n",
    "\n",
    "# calculate logpop\n",
    "texas_data_copy['logpop'] = texas_data_copy['pop'].apply(lambda x: np.log(x) if x > 0 else np.nan)\n",
    "\n",
    "# clean the data\n",
    "texas_data_copy = texas_data_copy.replace([np.inf, -np.inf], np.nan).dropna(subset=['logpop', 'unemp'])\n",
    "\n",
    "texas_data_copy[['pop', 'logpop', 'unemp']].head()\n",
    "\n"
   ],
   "metadata": {
    "colab": {
     "base_uri": "https://localhost:8080/",
     "height": 206
    },
    "id": "tD--7F-dQzxz",
    "outputId": "101bd7af-e5ff-4623-b8a0-951312f6a231"
   },
   "id": "tD--7F-dQzxz",
   "outputs": [],
   "execution_count": null
  },
  {
   "cell_type": "code",
   "id": "d173b184-652d-4747-a4f9-7877fd1c482a",
   "metadata": {
    "id": "d173b184-652d-4747-a4f9-7877fd1c482a",
    "colab": {
     "base_uri": "https://localhost:8080/",
     "height": 965
    },
    "outputId": "8ecd255e-9a1a-4a37-d342-d2dd22d5a56a"
   },
   "source": [
    "import matplotlib.pyplot as plt\n",
    "from matplotlib.colors import Normalize\n",
    "import matplotlib.patches as mpatches\n",
    "\n",
    "fig, ax = plt.subplots(1, 1, figsize=(12, 12))\n",
    "\n",
    "# logpop\n",
    "texas_data_copy.plot(\n",
    "    column='logpop',\n",
    "    cmap='Blues',\n",
    "    linewidth=0.8,\n",
    "    ax=ax,\n",
    "    edgecolor='0.8',\n",
    "    legend=True,\n",
    "    alpha=0.6,\n",
    "    norm=Normalize(vmin=texas_data_copy['logpop'].min(), vmax=texas_data_copy['logpop'].max())\n",
    ")\n",
    "\n",
    "# unemp\n",
    "texas_data_copy.plot(\n",
    "    column='unemp',\n",
    "    cmap='Reds',\n",
    "    linewidth=0.8,\n",
    "    ax=ax,\n",
    "    edgecolor='0.8',\n",
    "    legend=True,\n",
    "    alpha=0.4\n",
    ")\n",
    "plt.title('Texas Counties: Population (Log) and Unemployment Rate', fontsize=16)\n",
    "logpop_patch = mpatches.Patch(color='blue', alpha=0.6, label='Log of Population (logpop)')\n",
    "unemp_patch = mpatches.Patch(color='red', alpha=0.4, label='Unemployment Rate (unemp)')\n",
    "plt.legend(handles=[logpop_patch, unemp_patch], loc='lower left', fontsize=10, title=\"Layers\")\n",
    "\n",
    "# plot\n",
    "plt.show()\n"
   ],
   "outputs": [],
   "execution_count": null
  },
  {
   "cell_type": "code",
   "source": [
    "import plotly.graph_objs as go\n",
    "import plotly.offline as pyo\n",
    "\n",
    "fips = unemp_data_clean_subset['fips']\n",
    "logpop = unemp_data_clean_subset['logpop']\n",
    "unemp = unemp_data_clean_subset['unemp']\n",
    "trace1 = go.Bar(x=fips, y=logpop, name='Log of Population', marker=dict(color='blue', opacity=0.6))\n",
    "trace2 = go.Bar(x=fips, y=unemp, name='Unemployment Rate', marker=dict(color='red', opacity=0.4))\n",
    "\n",
    "# combine the layer\n",
    "data = [trace1, trace2]\n",
    "layout = go.Layout(title='Population (Log) and Unemployment Rate by County',\n",
    "                   xaxis=dict(title='FIPS Code'),\n",
    "                   yaxis=dict(title='Values'),\n",
    "                   barmode='overlay')\n",
    "\n",
    "fig = go.Figure(data=data, layout=layout)\n",
    "\n",
    "pyo.iplot(fig)\n"
   ],
   "metadata": {
    "colab": {
     "base_uri": "https://localhost:8080/",
     "height": 542
    },
    "id": "DdK2wCqhp877",
    "outputId": "63d20d98-d5a2-4a7d-cbe2-f11b642fcea7"
   },
   "id": "DdK2wCqhp877",
   "outputs": [],
   "execution_count": null
  }
 ],
 "metadata": {
  "kernelspec": {
   "display_name": "Python 3 (ipykernel)",
   "language": "python",
   "name": "python3"
  },
  "language_info": {
   "codemirror_mode": {
    "name": "ipython",
    "version": 3
   },
   "file_extension": ".py",
   "mimetype": "text/x-python",
   "name": "python",
   "nbconvert_exporter": "python",
   "pygments_lexer": "ipython3",
   "version": "3.11.7"
  },
  "colab": {
   "provenance": []
  }
 },
 "nbformat": 4,
 "nbformat_minor": 5
}
